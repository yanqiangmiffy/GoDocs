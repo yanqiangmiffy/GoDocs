{
 "cells": [
  {
   "cell_type": "markdown",
   "id": "9c3824c3-645e-4ad7-b79f-4b6ef4f19fa4",
   "metadata": {},
   "source": [
    "## 简介"
   ]
  },
  {
   "cell_type": "markdown",
   "id": "27e677e0-2c32-44ef-bf37-8f56ce4e2f49",
   "metadata": {},
   "source": [
    "PDF是文档常用格式，使用Python包PyPDF2可以对PDF文档实现批量、迅速的操作，包括提取文字、切分或合并PDF文件、创建annotation、加密和解密等。本文将介绍PyPDF2包的安装及简单使用方式。\n",
    "PyPDF的GitHub项目官网：py-pdf/PyPDF2: A pure-python PDF library capable of splitting, merging, cropping, and transforming the pages of PDF files\n",
    "\n",
    "项目地址：https://github.com/py-pdf/pypdf/tree/main\n",
    "\n",
    "安装：`pip install pypdf2`"
   ]
  },
  {
   "cell_type": "code",
   "execution_count": 1,
   "id": "initial_id",
   "metadata": {
    "collapsed": true,
    "jupyter": {
     "outputs_hidden": true
    },
    "tags": []
   },
   "outputs": [],
   "source": [
    "from pypdf import PdfReader"
   ]
  },
  {
   "cell_type": "markdown",
   "id": "162f2161-41fe-4bf9-978c-4b3bd8af0f61",
   "metadata": {},
   "source": [
    "## 获取pdf文件的元信息"
   ]
  },
  {
   "cell_type": "code",
   "execution_count": 2,
   "id": "63aca0c7-962b-4cf8-ba60-80ff39066ad2",
   "metadata": {
    "tags": []
   },
   "outputs": [
    {
     "name": "stdout",
     "output_type": "stream",
     "text": [
      "190\n"
     ]
    }
   ],
   "source": [
    "reader = PdfReader(\"documents/吉利博越.pdf\")\n",
    "meta = reader.metadata\n",
    "print(len(reader.pages))"
   ]
  },
  {
   "cell_type": "code",
   "execution_count": 3,
   "id": "c1f527a3-a093-4ee0-9f65-cb81b6606010",
   "metadata": {
    "tags": []
   },
   "outputs": [
    {
     "data": {
      "text/plain": [
       "{'/Author': 'pz',\n",
       " '/CreationDate': 'D:20160309105126Z',\n",
       " '/Creator': 'FrameMaker 9.0',\n",
       " '/Title': '<4E4C2D33D3C3BBA7CAD6B2E12E626F6F6B>',\n",
       " '/Producer': 'iLovePDF',\n",
       " '/ModDate': 'D:20210912034746Z'}"
      ]
     },
     "execution_count": 3,
     "metadata": {},
     "output_type": "execute_result"
    }
   ],
   "source": [
    "meta"
   ]
  },
  {
   "cell_type": "code",
   "execution_count": 5,
   "id": "32cd642d-5859-4d12-8390-d16f1ef6b62b",
   "metadata": {
    "tags": []
   },
   "outputs": [
    {
     "name": "stdout",
     "output_type": "stream",
     "text": [
      "pz\n",
      "FrameMaker 9.0\n",
      "iLovePDF\n",
      "None\n",
      "<4E4C2D33D3C3BBA7CAD6B2E12E626F6F6B>\n"
     ]
    }
   ],
   "source": [
    "# 有些信息可能为空\n",
    "print(meta.author)\n",
    "print(meta.creator)\n",
    "print(meta.producer)\n",
    "print(meta.subject)\n",
    "print(meta.title)"
   ]
  },
  {
   "cell_type": "markdown",
   "id": "53fdc2d2-58d8-4267-bcc8-85d45fb97505",
   "metadata": {},
   "source": [
    "## 获取文本内容"
   ]
  },
  {
   "cell_type": "code",
   "execution_count": 13,
   "id": "ea99cab9-be2d-4b70-8cdb-33a852285284",
   "metadata": {
    "tags": []
   },
   "outputs": [
    {
     "name": "stdout",
     "output_type": "stream",
     "text": [
      "前言\n",
      "尊敬的用户：\n",
      "感谢您对吉利汽车的信任，选择了具有优良安全性、舒适性、动力性和经济性的吉利汽\n",
      "车，我们期待着以优质的产品和服务为您的工作和生活带来乐趣。\n",
      "首次使用前请阅读并遵守本手册的内容，将帮助您更好的了解、使用吉利汽车，使您的\n",
      "新车在今后使用中技术状况良好，始终保持最佳性能。您对您的车辆了解的越多，就越能享受\n",
      "到驾驶该车辆的安全性和趣味性。\n",
      "若您在使用过程中发现一些问题，请就近与本公司授权的吉利汽车服务站联系，服务站\n",
      "将在保养、维修方面向您提供优质的服务，请您务必按本手册中的保养规定按期完成保养工作。\n",
      "本手册提供了所有车型的相关信息，由于车型配置不同，本手册的说明与您所购车辆的\n",
      "实际配置可能会有差别，请以实际接收的车辆为准。\n",
      "本手册属于整车的一个组成部分，出售或出借车辆时，请将本手册一并转交给新车主。\n",
      "本手册中的所有资料均为出版时的最新资料，今后如有改动，将按照相关规定进行补充\n",
      "通知。\n",
      "祝您快乐人生，吉利相伴！\n",
      "浙江吉利控股集团汽车销售有限公司\n",
      "2016 年1月\n",
      "版权所有。 如未经浙江吉利控股集团汽车销售有限公司书面同意， 不得转载或复印本手册的任\n",
      "何内容。\n",
      "注：本手册封面车型图片仅供参考，具体以实车为准。\n",
      "www.carobook.com\n"
     ]
    }
   ],
   "source": [
    "# 按照从上往下，从左到右提取文本内容\n",
    "first_page=reader.pages[0]\n",
    "print(first_page.extract_text(0))"
   ]
  },
  {
   "cell_type": "code",
   "execution_count": 21,
   "id": "4cbe7945-b82e-4e31-8c34-e7f92cab979e",
   "metadata": {
    "tags": []
   },
   "outputs": [
    {
     "name": "stdout",
     "output_type": "stream",
     "text": [
      "                                                                                        前言\n",
      "\n",
      "\n",
      "\n",
      "尊敬的用户：\n",
      "           感谢您对吉利汽车的信任，选择了具有优良安全性、舒适性、动力性和经济性的吉利汽\n",
      "车，我们期待着以优质的产品和服务为您的工作和生活带来乐趣。\n",
      "           首次使用前请阅读并遵守本手册的内容，将帮助您更好的了解、使用吉利汽车，使您的\n",
      "新车在今后使用中技术状况良好，始终保持最佳性能。您对您的车辆了解的越多，就越能享受\n",
      "到驾驶该车辆的安全性和趣味性。\n",
      "           若您在使用过程中发现一些问题，请就近与本公司授权的吉利汽车服务站联系，服务站\n",
      "将在保养、维修方面向您提供优质的服务，请您务必按本手册中的保养规定按期完成保养工\n",
      "作。\n",
      "           本手册提供了所有车型的相关信息，由于车型配置不同，本手册的说明与您所购车辆的\n",
      "实际配置可能会有差别，请以实际接收的车辆为准。\n",
      "           本手册属于整车的一个组成部分，出售或出借车辆时，请将本手册一并转交给新车主。\n",
      "           本手册中的所有资料均为出版时的最新资料，今后如有改动，将按照相关规定进行补充\n",
      "通知。\n",
      "           祝您快乐人生，吉利相伴！\n",
      "\n",
      "\n",
      "\n",
      "\n",
      "                                                                                                                     浙江吉利控股集团汽车销售有限公司\n",
      "                                                                                                                                                                       2016       年                             1       月\n",
      "\n",
      "\n",
      "\n",
      "\n",
      "版权所有。如未经浙江吉利控股集团汽车销售有限公司书面同意，不得转载或复印本手册的任\n",
      "何内容。\n",
      "\n",
      "\n",
      "\n",
      "\n",
      "\n",
      "\n",
      "\n",
      "\n",
      "\n",
      "\n",
      "\n",
      "\n",
      "\n",
      "\n",
      "                                        注：本手册封面车型图片仅供参考，具体以实车为准。\n"
     ]
    }
   ],
   "source": [
    "# 按照布局模式提取文本，从结果来看就是pdf上页面内容看上去是什么，提取出来就是什么\n",
    "print(first_page.extract_text(extraction_mode=\"layout\"))"
   ]
  },
  {
   "cell_type": "code",
   "execution_count": 20,
   "id": "d1b83194-2f54-41a6-a85c-968e667a14a6",
   "metadata": {
    "tags": []
   },
   "outputs": [
    {
     "data": {
      "text/plain": [
       "'                                                                                        前言\\n\\n\\n\\n尊敬的用户：\\n           感谢您对吉利汽车的信任，选择了具有优良安全性、舒适性、动力性和经济性的吉利汽\\n车，我们期待着以优质的产品和服务为您的工作和生活带来乐趣。\\n           首次使用前请阅读并遵守本手册的内容，将帮助您更好的了解、使用吉利汽车，使您的\\n新车在今后使用中技术状况良好，始终保持最佳性能。您对您的车辆了解的越多，就越能享受\\n到驾驶该车辆的安全性和趣味性。\\n           若您在使用过程中发现一些问题，请就近与本公司授权的吉利汽车服务站联系，服务站\\n将在保养、维修方面向您提供优质的服务，请您务必按本手册中的保养规定按期完成保养工\\n作。\\n           本手册提供了所有车型的相关信息，由于车型配置不同，本手册的说明与您所购车辆的\\n实际配置可能会有差别，请以实际接收的车辆为准。\\n           本手册属于整车的一个组成部分，出售或出借车辆时，请将本手册一并转交给新车主。\\n           本手册中的所有资料均为出版时的最新资料，今后如有改动，将按照相关规定进行补充\\n通知。\\n           祝您快乐人生，吉利相伴！\\n\\n\\n\\n\\n                                                                                                                     浙江吉利控股集团汽车销售有限公司\\n                                                                                                                                                                       2016       年                             1       月\\n\\n\\n\\n\\n版权所有。如未经浙江吉利控股集团汽车销售有限公司书面同意，不得转载或复印本手册的任\\n何内容。\\n\\n\\n\\n\\n\\n\\n\\n\\n\\n\\n\\n\\n\\n\\n                                        注：本手册封面车型图片仅供参考，具体以实车为准。'"
      ]
     },
     "execution_count": 20,
     "metadata": {},
     "output_type": "execute_result"
    }
   ],
   "source": [
    "first_page.extract_text(extraction_mode=\"layout\")"
   ]
  },
  {
   "cell_type": "code",
   "execution_count": null,
   "id": "afb5e408-fe7c-43b5-b863-0c016ef22e7e",
   "metadata": {},
   "outputs": [],
   "source": []
  }
 ],
 "metadata": {
  "kernelspec": {
   "display_name": "Python 3 (ipykernel)",
   "language": "python",
   "name": "python3"
  },
  "language_info": {
   "codemirror_mode": {
    "name": "ipython",
    "version": 3
   },
   "file_extension": ".py",
   "mimetype": "text/x-python",
   "name": "python",
   "nbconvert_exporter": "python",
   "pygments_lexer": "ipython3",
   "version": "3.11.5"
  }
 },
 "nbformat": 4,
 "nbformat_minor": 5
}
