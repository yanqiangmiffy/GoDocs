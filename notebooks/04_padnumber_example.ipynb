{
 "cells": [
  {
   "cell_type": "markdown",
   "id": "36874a53-e0e4-48d1-b5cd-442448efb72b",
   "metadata": {},
   "source": [
    "## pdfplumber简介\n",
    "\n",
    "项目地址：https://github.com/jsvine/pdfplumber\n",
    "\n",
    "安装`pip install pdfplumber`"
   ]
  },
  {
   "cell_type": "code",
   "execution_count": 9,
   "id": "fd2cdac0-53d0-4337-8590-3fd1e59c6111",
   "metadata": {
    "tags": []
   },
   "outputs": [
    {
     "name": "stdout",
     "output_type": "stream",
     "text": [
      "{'matrix': (13.98, 0.0, 0.0, 13.98, 207.12, 547.276), 'fontname': 'AENKZU+HYb2gj', 'adv': 1.0, 'upright': True, 'x0': 207.12, 'y0': 544.49398, 'x1': 221.1, 'y1': 558.47398, 'width': 13.97999999999999, 'height': 13.980000000000018, 'size': 13.980000000000018, 'mcid': None, 'tag': None, 'object_type': 'char', 'page_number': 1, 'ncs': 'DeviceRGB', 'text': '前', 'stroking_color': None, 'stroking_pattern': None, 'non_stroking_color': (0.121, 0.426, 0.93), 'non_stroking_pattern': None, 'top': 36.52602000000002, 'bottom': 50.506020000000035, 'doctop': 36.52602000000002}\n",
      "前言\n",
      "尊敬的用户：\n",
      "感谢您对吉利汽车的信任，选择了具有优良安全性、舒适性、动力性和经济性的吉利汽\n",
      "车，我们期待着以优质的产品和服务为您的工作和生活带来乐趣。\n",
      "首次使用前请阅读并遵守本手册的内容，将帮助您更好的了解、使用吉利汽车，使您的\n",
      "新车在今后使用中技术状况良好，始终保持最佳性能。您对您的车辆了解的越多，就越能享受\n",
      "到驾驶该车辆的安全性和趣味性。\n",
      "若您在使用过程中发现一些问题，请就近与本公司授权的吉利汽车服务站联系，服务站\n",
      "将在保养、维修方面向您提供优质的服务，请您务必按本手册中的保养规定按期完成保养工\n",
      "作。\n",
      "本手册提供了所有车型的相关信息，由于车型配置不同，本手册的说明与您所购车辆的\n",
      "实际配置可能会有差别，请以实际接收的车辆为准。\n",
      "本手册属于整车的一个组成部分，出售或出借车辆时，请将本手册一并转交给新车主。\n",
      "本手册中的所有资料均为出版时的最新资料，今后如有改动，将按照相关规定进行补充\n",
      "通知。\n",
      "祝您快乐人生，吉利相伴！\n",
      "www.carobook.com\n",
      "浙江吉利控股集团汽车销售有限公司\n",
      "2016年1月\n",
      "版权所有。如未经浙江吉利控股集团汽车销售有限公司书面同意，不得转载或复印本手册的任\n",
      "何内容。\n",
      "注：本手册封面车型图片仅供参考，具体以实车为准。\n"
     ]
    }
   ],
   "source": [
    "# 提取pdf文字\n",
    "import pdfplumber\n",
    "\n",
    "with pdfplumber.open(\"documents/吉利博越.pdf\") as pdf:\n",
    "    first_page = pdf.pages[0]\n",
    "    print(first_page.chars[0])# 获取第一页的第一个字\n",
    "    print(first_page.extract_text())"
   ]
  },
  {
   "cell_type": "code",
   "execution_count": null,
   "id": "cad3a646-1a20-4768-9a43-6b37cde26c24",
   "metadata": {},
   "outputs": [],
   "source": []
  }
 ],
 "metadata": {
  "kernelspec": {
   "display_name": "Python 3 (ipykernel)",
   "language": "python",
   "name": "python3"
  },
  "language_info": {
   "codemirror_mode": {
    "name": "ipython",
    "version": 3
   },
   "file_extension": ".py",
   "mimetype": "text/x-python",
   "name": "python",
   "nbconvert_exporter": "python",
   "pygments_lexer": "ipython3",
   "version": "3.11.5"
  }
 },
 "nbformat": 4,
 "nbformat_minor": 5
}
